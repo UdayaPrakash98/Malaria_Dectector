{
 "cells": [
  {
   "cell_type": "code",
   "execution_count": 1,
   "id": "d96cf402",
   "metadata": {},
   "outputs": [],
   "source": [
    "from tensorflow.keras.layers import Input, Lambda, Dense, Flatten,Conv2D\n",
    "from tensorflow.keras.models import Model\n",
    "from tensorflow.keras.applications.vgg19 import VGG19\n",
    "from tensorflow.keras.applications.resnet50 import preprocess_input\n",
    "from tensorflow.keras.preprocessing import image\n",
    "from tensorflow.keras.preprocessing.image import ImageDataGenerator,load_img\n",
    "from tensorflow.keras.models import Sequential\n",
    "import numpy as np\n",
    "from glob import glob\n",
    "import matplotlib.pyplot as plt"
   ]
  },
  {
   "cell_type": "code",
   "execution_count": 14,
   "id": "d5167f6f",
   "metadata": {},
   "outputs": [],
   "source": [
    "import os\n",
    "os.chdir('E:\\projects\\Malaria-Detection-master\\Dataset')\n",
    "IMAGE_SIZE = [224, 224]\n",
    "\n",
    "train_path = 'cell_images/Train'\n",
    "valid_path = 'cell_images/Test'"
   ]
  },
  {
   "cell_type": "code",
   "execution_count": 4,
   "id": "505cf6be",
   "metadata": {},
   "outputs": [],
   "source": [
    "VGG = VGG19(input_shape=IMAGE_SIZE + [3], weights='imagenet', include_top=False)"
   ]
  },
  {
   "cell_type": "code",
   "execution_count": 5,
   "id": "a12ba5be",
   "metadata": {},
   "outputs": [
    {
     "name": "stdout",
     "output_type": "stream",
     "text": [
      "Model: \"vgg19\"\n",
      "_________________________________________________________________\n",
      "Layer (type)                 Output Shape              Param #   \n",
      "=================================================================\n",
      "input_2 (InputLayer)         [(None, 224, 224, 3)]     0         \n",
      "_________________________________________________________________\n",
      "block1_conv1 (Conv2D)        (None, 224, 224, 64)      1792      \n",
      "_________________________________________________________________\n",
      "block1_conv2 (Conv2D)        (None, 224, 224, 64)      36928     \n",
      "_________________________________________________________________\n",
      "block1_pool (MaxPooling2D)   (None, 112, 112, 64)      0         \n",
      "_________________________________________________________________\n",
      "block2_conv1 (Conv2D)        (None, 112, 112, 128)     73856     \n",
      "_________________________________________________________________\n",
      "block2_conv2 (Conv2D)        (None, 112, 112, 128)     147584    \n",
      "_________________________________________________________________\n",
      "block2_pool (MaxPooling2D)   (None, 56, 56, 128)       0         \n",
      "_________________________________________________________________\n",
      "block3_conv1 (Conv2D)        (None, 56, 56, 256)       295168    \n",
      "_________________________________________________________________\n",
      "block3_conv2 (Conv2D)        (None, 56, 56, 256)       590080    \n",
      "_________________________________________________________________\n",
      "block3_conv3 (Conv2D)        (None, 56, 56, 256)       590080    \n",
      "_________________________________________________________________\n",
      "block3_conv4 (Conv2D)        (None, 56, 56, 256)       590080    \n",
      "_________________________________________________________________\n",
      "block3_pool (MaxPooling2D)   (None, 28, 28, 256)       0         \n",
      "_________________________________________________________________\n",
      "block4_conv1 (Conv2D)        (None, 28, 28, 512)       1180160   \n",
      "_________________________________________________________________\n",
      "block4_conv2 (Conv2D)        (None, 28, 28, 512)       2359808   \n",
      "_________________________________________________________________\n",
      "block4_conv3 (Conv2D)        (None, 28, 28, 512)       2359808   \n",
      "_________________________________________________________________\n",
      "block4_conv4 (Conv2D)        (None, 28, 28, 512)       2359808   \n",
      "_________________________________________________________________\n",
      "block4_pool (MaxPooling2D)   (None, 14, 14, 512)       0         \n",
      "_________________________________________________________________\n",
      "block5_conv1 (Conv2D)        (None, 14, 14, 512)       2359808   \n",
      "_________________________________________________________________\n",
      "block5_conv2 (Conv2D)        (None, 14, 14, 512)       2359808   \n",
      "_________________________________________________________________\n",
      "block5_conv3 (Conv2D)        (None, 14, 14, 512)       2359808   \n",
      "_________________________________________________________________\n",
      "block5_conv4 (Conv2D)        (None, 14, 14, 512)       2359808   \n",
      "_________________________________________________________________\n",
      "block5_pool (MaxPooling2D)   (None, 7, 7, 512)         0         \n",
      "=================================================================\n",
      "Total params: 20,024,384\n",
      "Trainable params: 20,024,384\n",
      "Non-trainable params: 0\n",
      "_________________________________________________________________\n"
     ]
    }
   ],
   "source": [
    "VGG.summary()"
   ]
  },
  {
   "cell_type": "code",
   "execution_count": 6,
   "id": "ec8b9fd8",
   "metadata": {},
   "outputs": [],
   "source": [
    "for layer in VGG.layers:\n",
    "    layer.trainable = False"
   ]
  },
  {
   "cell_type": "code",
   "execution_count": 20,
   "id": "8ff19165",
   "metadata": {},
   "outputs": [],
   "source": [
    "  # useful for getting number of output classes\n",
    "folders = glob('E:\\projects\\Malaria-Detection-master\\Dataset/Train/*')"
   ]
  },
  {
   "cell_type": "code",
   "execution_count": 24,
   "id": "2f24e012",
   "metadata": {},
   "outputs": [
    {
     "data": {
      "text/plain": [
       "['E:\\\\projects\\\\Malaria-Detection-master\\\\Dataset/Train\\\\Parasite',\n",
       " 'E:\\\\projects\\\\Malaria-Detection-master\\\\Dataset/Train\\\\Uninfected']"
      ]
     },
     "execution_count": 24,
     "metadata": {},
     "output_type": "execute_result"
    }
   ],
   "source": [
    "folders"
   ]
  },
  {
   "cell_type": "code",
   "execution_count": 22,
   "id": "e440075e",
   "metadata": {},
   "outputs": [],
   "source": [
    "x = Flatten()(VGG.output)"
   ]
  },
  {
   "cell_type": "code",
   "execution_count": 25,
   "id": "f9ad3820",
   "metadata": {},
   "outputs": [],
   "source": [
    "prediction = Dense(len(folders), activation='softmax')(x)\n",
    "model = Model(inputs=VGG.input, outputs=prediction)"
   ]
  },
  {
   "cell_type": "code",
   "execution_count": 26,
   "id": "1f0294a5",
   "metadata": {},
   "outputs": [
    {
     "name": "stdout",
     "output_type": "stream",
     "text": [
      "Model: \"model\"\n",
      "_________________________________________________________________\n",
      "Layer (type)                 Output Shape              Param #   \n",
      "=================================================================\n",
      "input_2 (InputLayer)         [(None, 224, 224, 3)]     0         \n",
      "_________________________________________________________________\n",
      "block1_conv1 (Conv2D)        (None, 224, 224, 64)      1792      \n",
      "_________________________________________________________________\n",
      "block1_conv2 (Conv2D)        (None, 224, 224, 64)      36928     \n",
      "_________________________________________________________________\n",
      "block1_pool (MaxPooling2D)   (None, 112, 112, 64)      0         \n",
      "_________________________________________________________________\n",
      "block2_conv1 (Conv2D)        (None, 112, 112, 128)     73856     \n",
      "_________________________________________________________________\n",
      "block2_conv2 (Conv2D)        (None, 112, 112, 128)     147584    \n",
      "_________________________________________________________________\n",
      "block2_pool (MaxPooling2D)   (None, 56, 56, 128)       0         \n",
      "_________________________________________________________________\n",
      "block3_conv1 (Conv2D)        (None, 56, 56, 256)       295168    \n",
      "_________________________________________________________________\n",
      "block3_conv2 (Conv2D)        (None, 56, 56, 256)       590080    \n",
      "_________________________________________________________________\n",
      "block3_conv3 (Conv2D)        (None, 56, 56, 256)       590080    \n",
      "_________________________________________________________________\n",
      "block3_conv4 (Conv2D)        (None, 56, 56, 256)       590080    \n",
      "_________________________________________________________________\n",
      "block3_pool (MaxPooling2D)   (None, 28, 28, 256)       0         \n",
      "_________________________________________________________________\n",
      "block4_conv1 (Conv2D)        (None, 28, 28, 512)       1180160   \n",
      "_________________________________________________________________\n",
      "block4_conv2 (Conv2D)        (None, 28, 28, 512)       2359808   \n",
      "_________________________________________________________________\n",
      "block4_conv3 (Conv2D)        (None, 28, 28, 512)       2359808   \n",
      "_________________________________________________________________\n",
      "block4_conv4 (Conv2D)        (None, 28, 28, 512)       2359808   \n",
      "_________________________________________________________________\n",
      "block4_pool (MaxPooling2D)   (None, 14, 14, 512)       0         \n",
      "_________________________________________________________________\n",
      "block5_conv1 (Conv2D)        (None, 14, 14, 512)       2359808   \n",
      "_________________________________________________________________\n",
      "block5_conv2 (Conv2D)        (None, 14, 14, 512)       2359808   \n",
      "_________________________________________________________________\n",
      "block5_conv3 (Conv2D)        (None, 14, 14, 512)       2359808   \n",
      "_________________________________________________________________\n",
      "block5_conv4 (Conv2D)        (None, 14, 14, 512)       2359808   \n",
      "_________________________________________________________________\n",
      "block5_pool (MaxPooling2D)   (None, 7, 7, 512)         0         \n",
      "_________________________________________________________________\n",
      "flatten (Flatten)            (None, 25088)             0         \n",
      "_________________________________________________________________\n",
      "dense (Dense)                (None, 2)                 50178     \n",
      "=================================================================\n",
      "Total params: 20,074,562\n",
      "Trainable params: 50,178\n",
      "Non-trainable params: 20,024,384\n",
      "_________________________________________________________________\n"
     ]
    }
   ],
   "source": [
    "model.summary()"
   ]
  },
  {
   "cell_type": "code",
   "execution_count": 27,
   "id": "71b2875a",
   "metadata": {},
   "outputs": [],
   "source": [
    "from tensorflow.keras.layers import MaxPooling2D"
   ]
  },
  {
   "cell_type": "code",
   "execution_count": 28,
   "id": "dd5749a0",
   "metadata": {},
   "outputs": [
    {
     "name": "stdout",
     "output_type": "stream",
     "text": [
      "Model: \"sequential\"\n",
      "_________________________________________________________________\n",
      "Layer (type)                 Output Shape              Param #   \n",
      "=================================================================\n",
      "conv2d (Conv2D)              (None, 224, 224, 16)      208       \n",
      "_________________________________________________________________\n",
      "max_pooling2d (MaxPooling2D) (None, 112, 112, 16)      0         \n",
      "_________________________________________________________________\n",
      "conv2d_1 (Conv2D)            (None, 112, 112, 32)      2080      \n",
      "_________________________________________________________________\n",
      "max_pooling2d_1 (MaxPooling2 (None, 56, 56, 32)        0         \n",
      "_________________________________________________________________\n",
      "conv2d_2 (Conv2D)            (None, 56, 56, 64)        8256      \n",
      "_________________________________________________________________\n",
      "max_pooling2d_2 (MaxPooling2 (None, 28, 28, 64)        0         \n",
      "_________________________________________________________________\n",
      "flatten_1 (Flatten)          (None, 50176)             0         \n",
      "_________________________________________________________________\n",
      "dense_1 (Dense)              (None, 500)               25088500  \n",
      "_________________________________________________________________\n",
      "dense_2 (Dense)              (None, 2)                 1002      \n",
      "=================================================================\n",
      "Total params: 25,100,046\n",
      "Trainable params: 25,100,046\n",
      "Non-trainable params: 0\n",
      "_________________________________________________________________\n"
     ]
    }
   ],
   "source": [
    "### Create Model from scratch using CNN\n",
    "model=Sequential()\n",
    "model.add(Conv2D(filters=16,kernel_size=2,padding=\"same\",activation=\"relu\",input_shape=(224,224,3)))\n",
    "model.add(MaxPooling2D(pool_size=2))\n",
    "model.add(Conv2D(filters=32,kernel_size=2,padding=\"same\",activation =\"relu\"))\n",
    "model.add(MaxPooling2D(pool_size=2))\n",
    "model.add(Conv2D(filters=64,kernel_size=2,padding=\"same\",activation=\"relu\"))\n",
    "model.add(MaxPooling2D(pool_size=2))\n",
    "model.add(Flatten())\n",
    "model.add(Dense(500,activation=\"relu\"))\n",
    "model.add(Dense(2,activation=\"softmax\"))\n",
    "model.summary()"
   ]
  },
  {
   "cell_type": "code",
   "execution_count": 29,
   "id": "49c75d65",
   "metadata": {},
   "outputs": [],
   "source": [
    "model.compile(\n",
    "  loss='categorical_crossentropy',\n",
    "  optimizer='adam',\n",
    "  metrics=['accuracy']\n",
    ")"
   ]
  },
  {
   "cell_type": "code",
   "execution_count": 30,
   "id": "c88af986",
   "metadata": {},
   "outputs": [],
   "source": [
    "from tensorflow.keras.preprocessing.image import ImageDataGenerator\n",
    "\n",
    "train_datagen = ImageDataGenerator(rescale = 1./255,\n",
    "                                   shear_range = 0.2,\n",
    "                                   zoom_range = 0.2,\n",
    "                                   horizontal_flip = True)\n",
    "\n",
    "test_datagen = ImageDataGenerator(rescale = 1./255)"
   ]
  },
  {
   "cell_type": "code",
   "execution_count": 32,
   "id": "714e2665",
   "metadata": {},
   "outputs": [
    {
     "name": "stdout",
     "output_type": "stream",
     "text": [
      "Found 416 images belonging to 2 classes.\n"
     ]
    }
   ],
   "source": [
    "training_set = train_datagen.flow_from_directory('E:\\projects\\Malaria-Detection-master\\Dataset\\Train',\n",
    "                                                 target_size = (224, 224),\n",
    "                                                 batch_size = 32,\n",
    "                                                 class_mode = 'categorical')"
   ]
  },
  {
   "cell_type": "code",
   "execution_count": 33,
   "id": "126a6e39",
   "metadata": {},
   "outputs": [
    {
     "name": "stdout",
     "output_type": "stream",
     "text": [
      "Found 134 images belonging to 2 classes.\n"
     ]
    }
   ],
   "source": [
    "test_set = test_datagen.flow_from_directory('E:\\projects\\Malaria-Detection-master\\Dataset\\Test',\n",
    "                                            target_size = (224, 224),\n",
    "                                            batch_size = 32,\n",
    "                                            class_mode = 'categorical')"
   ]
  },
  {
   "cell_type": "code",
   "execution_count": 34,
   "id": "00b4fdf5",
   "metadata": {},
   "outputs": [
    {
     "name": "stderr",
     "output_type": "stream",
     "text": [
      "c:\\users\\welcome\\appdata\\local\\programs\\python\\python39\\lib\\site-packages\\tensorflow\\python\\keras\\engine\\training.py:1940: UserWarning: `Model.fit_generator` is deprecated and will be removed in a future version. Please use `Model.fit`, which supports generators.\n",
      "  warnings.warn('`Model.fit_generator` is deprecated and '\n"
     ]
    },
    {
     "name": "stdout",
     "output_type": "stream",
     "text": [
      "Epoch 1/50\n",
      "13/13 [==============================] - 32s 2s/step - loss: 1.5290 - accuracy: 0.5096 - val_loss: 0.7067 - val_accuracy: 0.4701\n",
      "Epoch 2/50\n",
      "13/13 [==============================] - 20s 2s/step - loss: 0.6320 - accuracy: 0.6202 - val_loss: 0.7045 - val_accuracy: 0.5896\n",
      "Epoch 3/50\n",
      "13/13 [==============================] - 20s 2s/step - loss: 0.5143 - accuracy: 0.7260 - val_loss: 0.8353 - val_accuracy: 0.3731\n",
      "Epoch 4/50\n",
      "13/13 [==============================] - 20s 1s/step - loss: 0.4538 - accuracy: 0.7837 - val_loss: 0.7799 - val_accuracy: 0.5373\n",
      "Epoch 5/50\n",
      "13/13 [==============================] - 20s 2s/step - loss: 0.3790 - accuracy: 0.8462 - val_loss: 0.6305 - val_accuracy: 0.5672\n",
      "Epoch 6/50\n",
      "13/13 [==============================] - 20s 2s/step - loss: 0.3335 - accuracy: 0.8582 - val_loss: 0.8441 - val_accuracy: 0.5672\n",
      "Epoch 7/50\n",
      "13/13 [==============================] - 20s 2s/step - loss: 0.2845 - accuracy: 0.8870 - val_loss: 0.5576 - val_accuracy: 0.7239\n",
      "Epoch 8/50\n",
      "13/13 [==============================] - 20s 2s/step - loss: 0.2450 - accuracy: 0.9038 - val_loss: 0.4015 - val_accuracy: 0.8284\n",
      "Epoch 9/50\n",
      "13/13 [==============================] - 20s 2s/step - loss: 0.2125 - accuracy: 0.9303 - val_loss: 0.3809 - val_accuracy: 0.7985\n",
      "Epoch 10/50\n",
      "13/13 [==============================] - 20s 2s/step - loss: 0.2554 - accuracy: 0.9087 - val_loss: 0.4139 - val_accuracy: 0.8209\n",
      "Epoch 11/50\n",
      "13/13 [==============================] - 21s 2s/step - loss: 0.2656 - accuracy: 0.9087 - val_loss: 0.4391 - val_accuracy: 0.8060\n",
      "Epoch 12/50\n",
      "13/13 [==============================] - 22s 2s/step - loss: 0.1822 - accuracy: 0.9399 - val_loss: 0.2797 - val_accuracy: 0.8657\n",
      "Epoch 13/50\n",
      "13/13 [==============================] - 22s 2s/step - loss: 0.1356 - accuracy: 0.9591 - val_loss: 0.2410 - val_accuracy: 0.8731\n",
      "Epoch 14/50\n",
      "13/13 [==============================] - 23s 2s/step - loss: 0.1301 - accuracy: 0.9543 - val_loss: 0.2811 - val_accuracy: 0.8731\n",
      "Epoch 15/50\n",
      "13/13 [==============================] - 21s 2s/step - loss: 0.1123 - accuracy: 0.9663 - val_loss: 0.5111 - val_accuracy: 0.8134\n",
      "Epoch 16/50\n",
      "13/13 [==============================] - 22s 2s/step - loss: 0.1202 - accuracy: 0.9736 - val_loss: 0.3455 - val_accuracy: 0.8507\n",
      "Epoch 17/50\n",
      "13/13 [==============================] - 21s 2s/step - loss: 0.1256 - accuracy: 0.9591 - val_loss: 0.2057 - val_accuracy: 0.9254\n",
      "Epoch 18/50\n",
      "13/13 [==============================] - 22s 2s/step - loss: 0.1215 - accuracy: 0.9760 - val_loss: 0.3713 - val_accuracy: 0.8657\n",
      "Epoch 19/50\n",
      "13/13 [==============================] - 22s 2s/step - loss: 0.1533 - accuracy: 0.9447 - val_loss: 0.3480 - val_accuracy: 0.8284\n",
      "Epoch 20/50\n",
      "13/13 [==============================] - 22s 2s/step - loss: 0.1462 - accuracy: 0.9543 - val_loss: 0.3544 - val_accuracy: 0.8433\n",
      "Epoch 21/50\n",
      "13/13 [==============================] - 22s 2s/step - loss: 0.0945 - accuracy: 0.9663 - val_loss: 0.1951 - val_accuracy: 0.9254\n",
      "Epoch 22/50\n",
      "13/13 [==============================] - 23s 2s/step - loss: 0.0874 - accuracy: 0.9856 - val_loss: 0.3025 - val_accuracy: 0.8955\n",
      "Epoch 23/50\n",
      "13/13 [==============================] - 22s 2s/step - loss: 0.0731 - accuracy: 0.9832 - val_loss: 0.2116 - val_accuracy: 0.9030\n",
      "Epoch 24/50\n",
      "13/13 [==============================] - 21s 2s/step - loss: 0.0588 - accuracy: 0.9880 - val_loss: 0.2189 - val_accuracy: 0.9328\n",
      "Epoch 25/50\n",
      "13/13 [==============================] - 20s 2s/step - loss: 0.0581 - accuracy: 0.9832 - val_loss: 0.3157 - val_accuracy: 0.8881\n",
      "Epoch 26/50\n",
      "13/13 [==============================] - 20s 2s/step - loss: 0.0675 - accuracy: 0.9808 - val_loss: 0.3049 - val_accuracy: 0.8955\n",
      "Epoch 27/50\n",
      "13/13 [==============================] - 21s 2s/step - loss: 0.0487 - accuracy: 0.9832 - val_loss: 0.2425 - val_accuracy: 0.9328\n",
      "Epoch 28/50\n",
      "13/13 [==============================] - 21s 2s/step - loss: 0.0911 - accuracy: 0.9760 - val_loss: 0.3868 - val_accuracy: 0.8657\n",
      "Epoch 29/50\n",
      "13/13 [==============================] - 20s 2s/step - loss: 0.0995 - accuracy: 0.9712 - val_loss: 0.3783 - val_accuracy: 0.8731\n",
      "Epoch 30/50\n",
      "13/13 [==============================] - 20s 2s/step - loss: 0.0596 - accuracy: 0.9832 - val_loss: 0.3121 - val_accuracy: 0.8881\n",
      "Epoch 31/50\n",
      "13/13 [==============================] - 21s 2s/step - loss: 0.0849 - accuracy: 0.9760 - val_loss: 0.3070 - val_accuracy: 0.8806\n",
      "Epoch 32/50\n",
      "13/13 [==============================] - 21s 2s/step - loss: 0.0693 - accuracy: 0.9856 - val_loss: 0.2872 - val_accuracy: 0.8955\n",
      "Epoch 33/50\n",
      "13/13 [==============================] - 22s 2s/step - loss: 0.0872 - accuracy: 0.9688 - val_loss: 0.1640 - val_accuracy: 0.9328\n",
      "Epoch 34/50\n",
      "13/13 [==============================] - 21s 2s/step - loss: 0.0623 - accuracy: 0.9880 - val_loss: 0.4620 - val_accuracy: 0.8731\n",
      "Epoch 35/50\n",
      "13/13 [==============================] - 20s 2s/step - loss: 0.0587 - accuracy: 0.9832 - val_loss: 0.2453 - val_accuracy: 0.9104\n",
      "Epoch 36/50\n",
      "13/13 [==============================] - 20s 2s/step - loss: 0.0545 - accuracy: 0.9904 - val_loss: 0.5077 - val_accuracy: 0.8657\n",
      "Epoch 37/50\n",
      "13/13 [==============================] - 20s 2s/step - loss: 0.0595 - accuracy: 0.9808 - val_loss: 0.2902 - val_accuracy: 0.8806\n",
      "Epoch 38/50\n",
      "13/13 [==============================] - 20s 2s/step - loss: 0.0469 - accuracy: 0.9952 - val_loss: 0.3482 - val_accuracy: 0.8955\n",
      "Epoch 39/50\n",
      "13/13 [==============================] - 20s 2s/step - loss: 0.0305 - accuracy: 0.9928 - val_loss: 0.2791 - val_accuracy: 0.9104\n",
      "Epoch 40/50\n",
      "13/13 [==============================] - 20s 2s/step - loss: 0.0444 - accuracy: 0.9880 - val_loss: 0.4082 - val_accuracy: 0.8731\n",
      "Epoch 41/50\n",
      "13/13 [==============================] - 20s 2s/step - loss: 0.0373 - accuracy: 0.9928 - val_loss: 0.3556 - val_accuracy: 0.8955\n",
      "Epoch 42/50\n",
      "13/13 [==============================] - 20s 2s/step - loss: 0.0295 - accuracy: 0.9928 - val_loss: 0.3507 - val_accuracy: 0.9254\n",
      "Epoch 43/50\n",
      "13/13 [==============================] - 20s 2s/step - loss: 0.0298 - accuracy: 0.9928 - val_loss: 0.3596 - val_accuracy: 0.8955\n",
      "Epoch 44/50\n",
      "13/13 [==============================] - 20s 2s/step - loss: 0.0310 - accuracy: 0.9952 - val_loss: 0.3499 - val_accuracy: 0.9104\n",
      "Epoch 45/50\n",
      "13/13 [==============================] - 21s 2s/step - loss: 0.0423 - accuracy: 0.9880 - val_loss: 0.3394 - val_accuracy: 0.8881\n",
      "Epoch 46/50\n",
      "13/13 [==============================] - 20s 2s/step - loss: 0.0557 - accuracy: 0.9880 - val_loss: 0.2613 - val_accuracy: 0.9030\n",
      "Epoch 47/50\n",
      "13/13 [==============================] - 20s 1s/step - loss: 0.0287 - accuracy: 0.9952 - val_loss: 0.3126 - val_accuracy: 0.8955\n",
      "Epoch 48/50\n",
      "13/13 [==============================] - 20s 1s/step - loss: 0.0492 - accuracy: 0.9952 - val_loss: 0.6309 - val_accuracy: 0.8657\n",
      "Epoch 49/50\n",
      "13/13 [==============================] - 20s 2s/step - loss: 0.0641 - accuracy: 0.9808 - val_loss: 0.3893 - val_accuracy: 0.8657\n",
      "Epoch 50/50\n",
      "13/13 [==============================] - 20s 2s/step - loss: 0.0463 - accuracy: 0.9904 - val_loss: 0.2407 - val_accuracy: 0.9179\n"
     ]
    }
   ],
   "source": [
    "run= model.fit_generator(\n",
    "  training_set,\n",
    "  validation_data=test_set,\n",
    "  epochs=50,\n",
    "  steps_per_epoch=len(training_set),\n",
    "  validation_steps=len(test_set)\n",
    ")"
   ]
  },
  {
   "cell_type": "code",
   "execution_count": 37,
   "id": "8cc0f2ee",
   "metadata": {},
   "outputs": [
    {
     "data": {
      "image/png": "[encoded data removed]",
      "text/plain": [
       "<Figure size 432x288 with 1 Axes>"
      ]
     },
     "metadata": {
      "needs_background": "light"
     },
     "output_type": "display_data"
    },
    {
     "data": {
      "image/png": "[encoded data removed]",
      "text/plain": [
       "<Figure size 432x288 with 1 Axes>"
      ]
     },
     "metadata": {
      "needs_background": "light"
     },
     "output_type": "display_data"
    },
    {
     "data": {
      "text/plain": [
       "<Figure size 432x288 with 0 Axes>"
      ]
     },
     "metadata": {},
     "output_type": "display_data"
    }
   ],
   "source": [
    "# plot the loss\n",
    "plt.plot(run.history['loss'], label='train loss')\n",
    "plt.plot(run.history['val_loss'], label='val loss')\n",
    "plt.legend()\n",
    "plt.show()\n",
    "plt.savefig('LossVal_loss')\n",
    "\n",
    "# plot the accuracy\n",
    "plt.plot(run.history['accuracy'], label='train acc')\n",
    "plt.plot(run.history['val_accuracy'], label='val acc')\n",
    "plt.legend()\n",
    "plt.show()\n",
    "plt.savefig('AccVal_acc')"
   ]
  },
  {
   "cell_type": "code",
   "execution_count": 38,
   "id": "123f10eb",
   "metadata": {},
   "outputs": [],
   "source": [
    "\n",
    "from tensorflow.keras.models import load_model\n",
    "\n",
    "model.save('model_vgg19.h5')"
   ]
  },
  {
   "cell_type": "code",
   "execution_count": 39,
   "id": "ed3c9e64",
   "metadata": {},
   "outputs": [],
   "source": [
    "y_pred = model.predict(test_set)"
   ]
  },
  {
   "cell_type": "code",
   "execution_count": 40,
   "id": "926fbb44",
   "metadata": {},
   "outputs": [
    {
     "data": {
      "text/plain": [
       "array([[1.00000000e+00, 1.01751633e-37],\n",
       "       [6.00964576e-02, 9.39903557e-01],\n",
       "       [1.00000000e+00, 2.72018186e-10],\n",
       "       [1.11289985e-01, 8.88709962e-01],\n",
       "       [9.99998808e-01, 1.22613221e-06],\n",
       "       [1.64718125e-02, 9.83528137e-01],\n",
       "       [1.91443980e-01, 8.08556020e-01],\n",
       "       [1.00000000e+00, 1.44099461e-30],\n",
       "       [9.99992132e-01, 7.83060841e-06],\n",
       "       [1.00000000e+00, 1.10720286e-08],\n",
       "       [7.38056839e-01, 2.61943191e-01],\n",
       "       [8.36573124e-01, 1.63426876e-01],\n",
       "       [1.00000000e+00, 1.91798201e-19],\n",
       "       [3.28048761e-03, 9.96719539e-01],\n",
       "       [8.23508382e-01, 1.76491663e-01],\n",
       "       [1.00000000e+00, 8.36686831e-10],\n",
       "       [9.99948859e-01, 5.11438375e-05],\n",
       "       [1.00000000e+00, 1.49471391e-09],\n",
       "       [2.07333770e-02, 9.79266584e-01],\n",
       "       [1.64389908e-02, 9.83561039e-01],\n",
       "       [7.15463469e-03, 9.92845356e-01],\n",
       "       [1.00000000e+00, 4.59228424e-08],\n",
       "       [1.00000000e+00, 1.32275269e-18],\n",
       "       [1.00000000e+00, 8.27248410e-36],\n",
       "       [6.04929551e-02, 9.39507008e-01],\n",
       "       [4.00944352e-01, 5.99055707e-01],\n",
       "       [9.99999404e-01, 5.84126610e-07],\n",
       "       [1.48565080e-02, 9.85143483e-01],\n",
       "       [1.00000000e+00, 2.32773436e-13],\n",
       "       [9.83658805e-03, 9.90163386e-01],\n",
       "       [8.31805542e-02, 9.16819394e-01],\n",
       "       [1.47496283e-01, 8.52503657e-01],\n",
       "       [6.29781187e-01, 3.70218813e-01],\n",
       "       [3.57904402e-03, 9.96420979e-01],\n",
       "       [1.00000000e+00, 4.85378681e-27],\n",
       "       [1.00000000e+00, 1.05838396e-12],\n",
       "       [9.99999881e-01, 1.46141090e-07],\n",
       "       [8.35656468e-03, 9.91643369e-01],\n",
       "       [9.97343361e-01, 2.65665911e-03],\n",
       "       [1.00000000e+00, 5.22825339e-08],\n",
       "       [1.00000000e+00, 2.67293783e-13],\n",
       "       [1.00000000e+00, 2.29763529e-19],\n",
       "       [6.71749189e-03, 9.93282437e-01],\n",
       "       [1.00000000e+00, 7.50853415e-16],\n",
       "       [1.00000000e+00, 7.05776719e-14],\n",
       "       [5.27252793e-01, 4.72747236e-01],\n",
       "       [9.99987841e-01, 1.21542616e-05],\n",
       "       [2.40292735e-02, 9.75970745e-01],\n",
       "       [9.98326361e-01, 1.67361752e-03],\n",
       "       [4.42342386e-02, 9.55765784e-01],\n",
       "       [1.00000000e+00, 3.24221254e-08],\n",
       "       [1.00000000e+00, 4.08622843e-13],\n",
       "       [2.97936141e-01, 7.02063799e-01],\n",
       "       [1.90524664e-02, 9.80947495e-01],\n",
       "       [9.49057937e-03, 9.90509391e-01],\n",
       "       [7.14873662e-03, 9.92851257e-01],\n",
       "       [1.00000000e+00, 1.33397543e-20],\n",
       "       [8.96540359e-02, 9.10345972e-01],\n",
       "       [9.99999762e-01, 2.86881743e-07],\n",
       "       [1.00000000e+00, 2.20138442e-13],\n",
       "       [9.99988914e-01, 1.10880483e-05],\n",
       "       [3.20685148e-01, 6.79314852e-01],\n",
       "       [2.21605748e-02, 9.77839470e-01],\n",
       "       [6.40037879e-02, 9.35996234e-01],\n",
       "       [9.99999642e-01, 4.05452511e-07],\n",
       "       [4.74135160e-01, 5.25864840e-01],\n",
       "       [5.66427084e-03, 9.94335711e-01],\n",
       "       [1.00000000e+00, 2.54052779e-10],\n",
       "       [9.99991536e-01, 8.51069035e-06],\n",
       "       [3.26218898e-03, 9.96737778e-01],\n",
       "       [1.00000000e+00, 1.32783526e-08],\n",
       "       [9.69375744e-02, 9.03062403e-01],\n",
       "       [4.71636653e-02, 9.52836335e-01],\n",
       "       [9.99999881e-01, 1.17424072e-07],\n",
       "       [1.00000000e+00, 2.68064770e-09],\n",
       "       [3.94265987e-02, 9.60573435e-01],\n",
       "       [9.99986649e-01, 1.33881840e-05],\n",
       "       [9.99998927e-01, 1.09785549e-06],\n",
       "       [9.99886513e-01, 1.13428796e-04],\n",
       "       [2.96346843e-03, 9.97036576e-01],\n",
       "       [9.99995351e-01, 4.61146374e-06],\n",
       "       [1.00000000e+00, 8.93822882e-09],\n",
       "       [1.00000000e+00, 1.49933954e-09],\n",
       "       [8.61720681e-01, 1.38279334e-01],\n",
       "       [9.08667687e-03, 9.90913272e-01],\n",
       "       [1.23806363e-02, 9.87619400e-01],\n",
       "       [1.00000000e+00, 1.91455360e-19],\n",
       "       [4.98798937e-02, 9.50120151e-01],\n",
       "       [1.00000000e+00, 5.85650905e-18],\n",
       "       [9.66492482e-03, 9.90335107e-01],\n",
       "       [1.45517230e-01, 8.54482770e-01],\n",
       "       [1.27170071e-01, 8.72829974e-01],\n",
       "       [1.00000000e+00, 2.39965159e-09],\n",
       "       [1.00000000e+00, 6.64270275e-14],\n",
       "       [9.99999285e-01, 7.19601587e-07],\n",
       "       [9.99999046e-01, 9.56586405e-07],\n",
       "       [1.26439884e-01, 8.73560071e-01],\n",
       "       [1.41653661e-02, 9.85834658e-01],\n",
       "       [9.99998927e-01, 1.12316923e-06],\n",
       "       [9.99985337e-01, 1.47149112e-05],\n",
       "       [1.00000000e+00, 4.95196106e-10],\n",
       "       [1.33076627e-02, 9.86692369e-01],\n",
       "       [9.99981999e-01, 1.80200695e-05],\n",
       "       [3.17977034e-02, 9.68202233e-01],\n",
       "       [3.13385457e-01, 6.86614573e-01],\n",
       "       [1.00000000e+00, 4.69293719e-30],\n",
       "       [9.99089003e-01, 9.11048613e-04],\n",
       "       [7.02833757e-02, 9.29716587e-01],\n",
       "       [9.99997258e-01, 2.78336756e-06],\n",
       "       [3.55184376e-02, 9.64481533e-01],\n",
       "       [1.00000000e+00, 4.48722837e-09],\n",
       "       [2.35040113e-02, 9.76495922e-01],\n",
       "       [9.99999762e-01, 2.06121427e-07],\n",
       "       [1.00000000e+00, 3.58052672e-13],\n",
       "       [9.99999285e-01, 7.73943725e-07],\n",
       "       [9.99778926e-01, 2.21030161e-04],\n",
       "       [2.25561969e-02, 9.77443755e-01],\n",
       "       [3.70251155e-03, 9.96297538e-01],\n",
       "       [9.49571550e-01, 5.04285134e-02],\n",
       "       [9.99999642e-01, 3.68801352e-07],\n",
       "       [1.37472656e-02, 9.86252725e-01],\n",
       "       [9.99999881e-01, 6.50672831e-08],\n",
       "       [7.67226517e-03, 9.92327750e-01],\n",
       "       [1.26928501e-02, 9.87307191e-01],\n",
       "       [9.99999046e-01, 9.50656784e-07],\n",
       "       [1.00000000e+00, 5.37023724e-11],\n",
       "       [1.00000000e+00, 1.57454836e-14],\n",
       "       [1.00000000e+00, 1.69287464e-08],\n",
       "       [9.99991536e-01, 8.46396233e-06],\n",
       "       [9.99884248e-01, 1.15750125e-04],\n",
       "       [1.00000000e+00, 7.18727812e-12],\n",
       "       [9.98247504e-01, 1.75252429e-03],\n",
       "       [6.66865036e-02, 9.33313549e-01],\n",
       "       [9.99994278e-01, 5.67146662e-06]], dtype=float32)"
      ]
     },
     "execution_count": 40,
     "metadata": {},
     "output_type": "execute_result"
    }
   ],
   "source": [
    "y_pred"
   ]
  },
  {
   "cell_type": "code",
   "execution_count": 41,
   "id": "2704e773",
   "metadata": {},
   "outputs": [],
   "source": [
    "import numpy as np\n",
    "y_pred = np.argmax(y_pred, axis=1)"
   ]
  },
  {
   "cell_type": "code",
   "execution_count": 42,
   "id": "4a9ac220",
   "metadata": {},
   "outputs": [
    {
     "data": {
      "text/plain": [
       "array([0, 1, 0, 1, 0, 1, 1, 0, 0, 0, 0, 0, 0, 1, 0, 0, 0, 0, 1, 1, 1, 0,\n",
       "       0, 0, 1, 1, 0, 1, 0, 1, 1, 1, 0, 1, 0, 0, 0, 1, 0, 0, 0, 0, 1, 0,\n",
       "       0, 0, 0, 1, 0, 1, 0, 0, 1, 1, 1, 1, 0, 1, 0, 0, 0, 1, 1, 1, 0, 1,\n",
       "       1, 0, 0, 1, 0, 1, 1, 0, 0, 1, 0, 0, 0, 1, 0, 0, 0, 0, 1, 1, 0, 1,\n",
       "       0, 1, 1, 1, 0, 0, 0, 0, 1, 1, 0, 0, 0, 1, 0, 1, 1, 0, 0, 1, 0, 1,\n",
       "       0, 1, 0, 0, 0, 0, 1, 1, 0, 0, 1, 0, 1, 1, 0, 0, 0, 0, 0, 0, 0, 0,\n",
       "       1, 0], dtype=int64)"
      ]
     },
     "execution_count": 42,
     "metadata": {},
     "output_type": "execute_result"
    }
   ],
   "source": [
    "y_pred"
   ]
  },
  {
   "cell_type": "code",
   "execution_count": 43,
   "id": "d7717665",
   "metadata": {},
   "outputs": [],
   "source": [
    "from tensorflow.keras.models import load_model\n",
    "from tensorflow.keras.preprocessing import image"
   ]
  },
  {
   "cell_type": "code",
   "execution_count": 44,
   "id": "47cdbc6b",
   "metadata": {},
   "outputs": [],
   "source": [
    "model=load_model('model_vgg19.h5')"
   ]
  },
  {
   "cell_type": "code",
   "execution_count": 71,
   "id": "4bd6936e",
   "metadata": {},
   "outputs": [
    {
     "data": {
      "text/plain": [
       "array([[[0., 0., 0.],\n",
       "        [0., 0., 0.],\n",
       "        [0., 0., 0.],\n",
       "        ...,\n",
       "        [0., 0., 0.],\n",
       "        [0., 0., 0.],\n",
       "        [0., 0., 0.]],\n",
       "\n",
       "       [[0., 0., 0.],\n",
       "        [0., 0., 0.],\n",
       "        [0., 0., 0.],\n",
       "        ...,\n",
       "        [0., 0., 0.],\n",
       "        [0., 0., 0.],\n",
       "        [0., 0., 0.]],\n",
       "\n",
       "       [[0., 0., 0.],\n",
       "        [0., 0., 0.],\n",
       "        [0., 0., 0.],\n",
       "        ...,\n",
       "        [0., 0., 0.],\n",
       "        [0., 0., 0.],\n",
       "        [0., 0., 0.]],\n",
       "\n",
       "       ...,\n",
       "\n",
       "       [[0., 0., 0.],\n",
       "        [0., 0., 0.],\n",
       "        [0., 0., 0.],\n",
       "        ...,\n",
       "        [0., 0., 0.],\n",
       "        [0., 0., 0.],\n",
       "        [0., 0., 0.]],\n",
       "\n",
       "       [[0., 0., 0.],\n",
       "        [0., 0., 0.],\n",
       "        [0., 0., 0.],\n",
       "        ...,\n",
       "        [0., 0., 0.],\n",
       "        [0., 0., 0.],\n",
       "        [0., 0., 0.]],\n",
       "\n",
       "       [[0., 0., 0.],\n",
       "        [0., 0., 0.],\n",
       "        [0., 0., 0.],\n",
       "        ...,\n",
       "        [0., 0., 0.],\n",
       "        [0., 0., 0.],\n",
       "        [0., 0., 0.]]], dtype=float32)"
      ]
     },
     "execution_count": 71,
     "metadata": {},
     "output_type": "execute_result"
    }
   ],
   "source": [
    "img=image.load_img(\"E:\\projects\\Malaria-Detection-master\\Dataset\\Test\\Parasite\\one.png\",target_size=(224,224))\n",
    "x=image.img_to_array(img)\n",
    "x\n"
   ]
  },
  {
   "cell_type": "code",
   "execution_count": 59,
   "id": "19df5dff",
   "metadata": {},
   "outputs": [],
   "source": [
    "x=x/255"
   ]
  },
  {
   "cell_type": "code",
   "execution_count": 60,
   "id": "5b77f3c7",
   "metadata": {},
   "outputs": [
    {
     "data": {
      "text/plain": [
       "(1, 224, 224, 3)"
      ]
     },
     "execution_count": 60,
     "metadata": {},
     "output_type": "execute_result"
    }
   ],
   "source": [
    "x=np.expand_dims(x,axis=0)\n",
    "img_data=preprocess_input(x)\n",
    "img_data.shape"
   ]
  },
  {
   "cell_type": "code",
   "execution_count": 61,
   "id": "fdd2afb5",
   "metadata": {},
   "outputs": [
    {
     "data": {
      "text/plain": [
       "array([[1., 0.]], dtype=float32)"
      ]
     },
     "execution_count": 61,
     "metadata": {},
     "output_type": "execute_result"
    }
   ],
   "source": [
    "model.predict(img_data)"
   ]
  },
  {
   "cell_type": "code",
   "execution_count": 62,
   "id": "30304e91",
   "metadata": {},
   "outputs": [],
   "source": [
    "a=np.argmax(model.predict(img_data), axis=1)"
   ]
  },
  {
   "cell_type": "code",
   "execution_count": 63,
   "id": "777550d6",
   "metadata": {},
   "outputs": [
    {
     "name": "stdout",
     "output_type": "stream",
     "text": [
      "Infected\n"
     ]
    }
   ],
   "source": [
    "if(a==1):\n",
    "    print(\"Uninfected\")\n",
    "else:\n",
    "    print(\"Infected\")"
   ]
  },
  {
   "cell_type": "code",
   "execution_count": null,
   "id": "77c3dc1f",
   "metadata": {},
   "outputs": [],
   "source": []
  }
 ],
 "metadata": {
  "kernelspec": {
   "display_name": "Python 3",
   "language": "python",
   "name": "python3"
  },
  "language_info": {
   "codemirror_mode": {
    "name": "ipython",
    "version": 3
   },
   "file_extension": ".py",
   "mimetype": "text/x-python",
   "name": "python",
   "nbconvert_exporter": "python",
   "pygments_lexer": "ipython3",
   "version": "3.9.5"
  }
 },
 "nbformat": 4,
 "nbformat_minor": 5
}
